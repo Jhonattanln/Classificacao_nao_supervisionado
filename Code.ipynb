{
 "cells": [
  {
   "cell_type": "markdown",
   "metadata": {},
   "source": [
    "## Modelo de classificação não supervisionado"
   ]
  },
  {
   "cell_type": "code",
   "execution_count": 25,
   "metadata": {},
   "outputs": [],
   "source": [
    "### importando bibliotecas\n",
    "import pandas as pd\n",
    "import numpy as np\n",
    "import matplotlib.pyplot as plt\n",
    "from sklearn.cluster import KMeans\n",
    "from sklearn.preprocessing import StandardScaler\n",
    "from sklearn.cluster import KMeans\n",
    "import warnings\n",
    "warnings.filterwarnings('ignore')"
   ]
  },
  {
   "cell_type": "code",
   "execution_count": 26,
   "metadata": {},
   "outputs": [],
   "source": [
    "### Importando dados\n",
    "df = pd.read_excel('economatica.xlsx', skiprows=3, index_col='Código')"
   ]
  },
  {
   "cell_type": "markdown",
   "metadata": {},
   "source": [
    "#### Tratando os dados"
   ]
  },
  {
   "cell_type": "code",
   "execution_count": 27,
   "metadata": {},
   "outputs": [],
   "source": [
    "### Linpandao colunas que não serão utilizadas\n",
    "df.drop(['Unnamed: 0', 'Ativo /\\nCancelado', 'Classe', 'Nome','Bolsa / Fonte', 'Tipo de Ativo', 'Setor\\nEconomatica', 'Setor NAICS\\nult disponiv', 'Subsetor Bovespa', 'Data da\\nÚlt Cotação', 'Data do\\nÚltimo\\nBalanço', 'Consolidado', 'Link da\\nÚltima\\nNota\\nExplicativa', 'Data do\\nMáximo de\\n52 semanas'], axis=1, inplace=True)\n"
   ]
  },
  {
   "cell_type": "code",
   "execution_count": 28,
   "metadata": {},
   "outputs": [],
   "source": [
    "### Modificando variaves categóricas em numéricas\n",
    "df = pd.get_dummies(df, columns=['Segmento listagem\\nBovespa'])\n",
    "df.replace('-', np.nan, inplace=True) ### renomeando dados ausentes"
   ]
  },
  {
   "cell_type": "code",
   "execution_count": 29,
   "metadata": {},
   "outputs": [
    {
     "data": {
      "text/plain": [
       "Participação\\nno Ibovespa\\n\\nem %                 0\n",
       "Valor de\\nMercado\\nAtual\\nem milhares             0\n",
       "Valor de\\nMercado\\n1 ano atrás\\nem milhares       0\n",
       "Variação\\nValor de Merc\\nem 1 ano\\nem milhares    0\n",
       "Enterprise\\nValue\\n\\nem milhares                  0\n",
       "                                                 ..\n",
       "Setor Econômico\\nBovespa                          0\n",
       "Segmento listagem\\nBovespa_Novo Mercado           0\n",
       "Segmento listagem\\nBovespa_Nível 1                0\n",
       "Segmento listagem\\nBovespa_Nível 2                0\n",
       "Segmento listagem\\nBovespa_Tradicional            0\n",
       "Length: 61, dtype: int64"
      ]
     },
     "execution_count": 29,
     "metadata": {},
     "output_type": "execute_result"
    }
   ],
   "source": [
    "### Excluindo linhas em branco\n",
    "df = df.dropna()\n",
    "df.isna().sum() ### contando valores nulos"
   ]
  },
  {
   "cell_type": "code",
   "execution_count": 30,
   "metadata": {},
   "outputs": [],
   "source": [
    "### Criando base de treinamento\n",
    "X = df.drop(['Setor Econômico\\nBovespa'], axis=1) ### excluindo target da base de treinameto X\n",
    "X = X[:50].values ### dados para o modelo\n",
    "X_test = X[-10:]"
   ]
  },
  {
   "cell_type": "markdown",
   "metadata": {},
   "source": [
    "#### Rodando o modelo"
   ]
  },
  {
   "cell_type": "code",
   "execution_count": 31,
   "metadata": {},
   "outputs": [],
   "source": [
    "X_scaler = StandardScaler()\n",
    "X_scaler.fit(X)\n",
    "scaler = X_scaler.transform(X)"
   ]
  },
  {
   "cell_type": "code",
   "execution_count": 32,
   "metadata": {},
   "outputs": [],
   "source": [
    "### Encontrando número ideal de clusters\n",
    "ks = range(1, 8)\n",
    "inertia = []\n",
    "for k in ks:\n",
    "    model = KMeans()\n",
    "    model.fit(scaler)\n",
    "    inertia.append(model.inertia_)"
   ]
  },
  {
   "cell_type": "code",
   "execution_count": 33,
   "metadata": {},
   "outputs": [
    {
     "data": {
      "image/png": "[encoded data removed]",
      "text/plain": [
       "<Figure size 432x288 with 1 Axes>"
      ]
     },
     "metadata": {
      "needs_background": "light"
     },
     "output_type": "display_data"
    }
   ],
   "source": [
    "### Plotando gráficos\n",
    "plt.plot(ks, inertia, '-o')\n",
    "plt.xlabel('number of clusters, k')\n",
    "plt.ylabel('inertia')\n",
    "plt.xticks(ks)\n",
    "plt.show()"
   ]
  },
  {
   "cell_type": "code",
   "execution_count": 34,
   "metadata": {},
   "outputs": [
    {
     "data": {
      "text/plain": [
       "KMeans(n_clusters=2)"
      ]
     },
     "execution_count": 34,
     "metadata": {},
     "output_type": "execute_result"
    }
   ],
   "source": [
    "clusters = 2 ### quantidade de clusters que o modelo terá\n",
    "model = KMeans(n_clusters=clusters)\n",
    "model.fit(scaler)"
   ]
  },
  {
   "cell_type": "code",
   "execution_count": 35,
   "metadata": {},
   "outputs": [],
   "source": [
    "### Previsão\n",
    "labels = model.predict(X_test)"
   ]
  },
  {
   "cell_type": "markdown",
   "metadata": {},
   "source": [
    "#### Plotando gráfico"
   ]
  },
  {
   "cell_type": "code",
   "execution_count": 36,
   "metadata": {},
   "outputs": [],
   "source": [
    "px = X_test[:,0]\n",
    "py = X_test[:,-1]\n",
    "centro = model.cluster_centers_\n",
    "centro_x = centro[:,0]\n",
    "centro_y = centro[:,1]"
   ]
  },
  {
   "cell_type": "code",
   "execution_count": 37,
   "metadata": {},
   "outputs": [
    {
     "data": {
      "image/png": "[encoded data removed]",
      "text/plain": [
       "<Figure size 432x288 with 1 Axes>"
      ]
     },
     "metadata": {
      "needs_background": "light"
     },
     "output_type": "display_data"
    }
   ],
   "source": [
    "plt.scatter(px, py, c=labels, alpha=0.6)\n",
    "plt.scatter(centro_x, centro_y, marker='*', s=50)\n",
    "plt.show()"
   ]
  },
  {
   "cell_type": "code",
   "execution_count": null,
   "metadata": {},
   "outputs": [],
   "source": []
  },
  {
   "cell_type": "code",
   "execution_count": null,
   "metadata": {},
   "outputs": [],
   "source": []
  }
 ],
 "metadata": {
  "interpreter": {
   "hash": "79f598cbb7f916b2cb6b6e41cfdf827349ce7d90d964934c12ee72c4312855ab"
  },
  "kernelspec": {
   "display_name": "Python 3.10.1 64-bit",
   "language": "python",
   "name": "python3"
  },
  "language_info": {
   "codemirror_mode": {
    "name": "ipython",
    "version": 3
   },
   "file_extension": ".py",
   "mimetype": "text/x-python",
   "name": "python",
   "nbconvert_exporter": "python",
   "pygments_lexer": "ipython3",
   "version": "3.10.1"
  },
  "orig_nbformat": 4
 },
 "nbformat": 4,
 "nbformat_minor": 2
}
